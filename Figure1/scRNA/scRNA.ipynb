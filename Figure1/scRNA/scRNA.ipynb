{
 "cells": [
  {
   "cell_type": "code",
   "execution_count": 1,
   "id": "bbdb2f6d",
   "metadata": {},
   "outputs": [],
   "source": [
    "import scanpy as sc\n",
    "import os\n",
    "import math\n",
    "import itertools\n",
    "import warnings\n",
    "import numpy as np\n",
    "import pandas as pd\n",
    "import matplotlib.pyplot as plt"
   ]
  },
  {
   "cell_type": "code",
   "execution_count": 32,
   "id": "0e9fb297",
   "metadata": {},
   "outputs": [],
   "source": [
    "adata = sc.read_h5ad(\"all_pbmcs_rna.h5ad\")"
   ]
  },
  {
   "cell_type": "code",
   "execution_count": 26,
   "id": "2f58627c",
   "metadata": {},
   "outputs": [],
   "source": [
    "anno= pd.read_csv(\"all_pbmcs_metadata.csv\",index_col=\"Unnamed: 0\")"
   ]
  },
  {
   "cell_type": "code",
   "execution_count": 19,
   "id": "86027471",
   "metadata": {},
   "outputs": [],
   "source": [
    "cell_names = adata.obs_names"
   ]
  },
  {
   "cell_type": "code",
   "execution_count": 20,
   "id": "25d1eab0",
   "metadata": {},
   "outputs": [
    {
     "name": "stdout",
     "output_type": "stream",
     "text": [
      "Index(['ALAW-AS044-1_AAAGCAAGTAGCTTGT-1', 'ALAW-AS044-1_AAAGCAATCTCAAGTG-1',\n",
      "       'ALAW-AS044-1_AAAGTAGGTGTTGAGG-1', 'ALAW-AS044-1_AACCATGCACCGATAT-1',\n",
      "       'ALAW-AS044-1_AACCATGCATGCCACG-1', 'ALAW-AS044-1_AACTCAGTCGCCTGTT-1',\n",
      "       'ALAW-AS044-1_AACTCCCGTCTCCATC-1', 'ALAW-AS044-1_AACTCCCTCATAACCG-1',\n",
      "       'ALAW-AS044-1_AACTGGTAGAGCCCAA-1', 'ALAW-AS044-1_AAGCCGCAGTGCCAGA-1',\n",
      "       ...\n",
      "       'ALAW-AS062-8_ACGATACGTCACTTCC-1', 'ALAW-AS062-8_CACACTCCACCGATAT-1',\n",
      "       'ALAW-AS062-8_CCGTACTAGCGATATA-1', 'ALAW-AS062-8_CCTACCAGTCGATTGT-1',\n",
      "       'ALAW-AS062-8_CTCTAATGTTTGGCGC-1', 'ALAW-AS062-8_GACAGAGCATCATCCC-1',\n",
      "       'ALAW-AS062-8_GAGCAGACACCGGAAA-1', 'ALAW-AS062-8_GATCAGTCATACCATG-1',\n",
      "       'ALAW-AS062-8_TACTCATGTCCATGAT-1', 'ALAW-AS062-8_TGCGCAGCACACTGCG-1'],\n",
      "      dtype='object', length=1916367)\n"
     ]
    }
   ],
   "source": [
    "print(cell_names)"
   ]
  },
  {
   "cell_type": "code",
   "execution_count": 30,
   "id": "dbd4e6ea",
   "metadata": {},
   "outputs": [
    {
     "name": "stdout",
     "output_type": "stream",
     "text": [
      "                                    orig.ident  nCount_RNA  nFeature_RNA  \\\n",
      "ALAW-AS044-1_AAACCTGAGAAGCCCA-1  SeuratProject        4145          1745   \n",
      "ALAW-AS044-1_AAACCTGAGAGTAATC-1  SeuratProject        1921           960   \n",
      "ALAW-AS044-1_AAACCTGAGCAATCTC-1  SeuratProject        3651          1878   \n",
      "ALAW-AS044-1_AAACCTGAGGTACTCT-1  SeuratProject        3443          1490   \n",
      "ALAW-AS044-1_AAACCTGCAATGTAAG-1  SeuratProject        2081           950   \n",
      "...                                        ...         ...           ...   \n",
      "ALAW-AS062-8_CGTTAGATCAGGCGAA-1  SeuratProject        1434           799   \n",
      "ALAW-AS062-8_GACGTTATCTTGAGAC-1  SeuratProject        2967          1558   \n",
      "ALAW-AS062-8_GCCTCTAAGCCAACAG-1  SeuratProject        2957          1487   \n",
      "ALAW-AS062-8_TGCGTGGGTGTGACGA-1  SeuratProject        1697           919   \n",
      "ALAW-AS062-8_TTAGGACTCCAGAGGA-1  SeuratProject        1382           898   \n",
      "\n",
      "                                 nCount_HTO  nFeature_HTO  percent.mt  \\\n",
      "ALAW-AS044-1_AAACCTGAGAAGCCCA-1        1181            20    1.302774   \n",
      "ALAW-AS044-1_AAACCTGAGAGTAATC-1         998            20    0.416450   \n",
      "ALAW-AS044-1_AAACCTGAGCAATCTC-1        2035            20    0.438236   \n",
      "ALAW-AS044-1_AAACCTGAGGTACTCT-1        1713            20    1.916933   \n",
      "ALAW-AS044-1_AAACCTGCAATGTAAG-1        1776            20    1.489668   \n",
      "...                                     ...           ...         ...   \n",
      "ALAW-AS062-8_CGTTAGATCAGGCGAA-1         376            20    1.882845   \n",
      "ALAW-AS062-8_GACGTTATCTTGAGAC-1         656            18    3.471520   \n",
      "ALAW-AS062-8_GCCTCTAAGCCAACAG-1         933            20    2.299628   \n",
      "ALAW-AS062-8_TGCGTGGGTGTGACGA-1         289            20    1.414260   \n",
      "ALAW-AS062-8_TTAGGACTCCAGAGGA-1        1283            20    3.473227   \n",
      "\n",
      "                                 percent.ribo  log2_nCount  log2_nFeature  \\\n",
      "ALAW-AS044-1_AAACCTGAGAAGCCCA-1     29.529554    12.017156      10.769011   \n",
      "ALAW-AS044-1_AAACCTGAGAGTAATC-1     11.764706    10.907642       9.906891   \n",
      "ALAW-AS044-1_AAACCTGAGCAATCTC-1     13.174473    11.834076      10.874981   \n",
      "ALAW-AS044-1_AAACCTGAGGTACTCT-1     30.874238    11.749450      10.541097   \n",
      "ALAW-AS044-1_AAACCTGCAATGTAAG-1     35.655935    11.023061       9.891784   \n",
      "...                                       ...          ...            ...   \n",
      "ALAW-AS062-8_CGTTAGATCAGGCGAA-1     23.919107    10.485829       9.642052   \n",
      "ALAW-AS062-8_GACGTTATCTTGAGAC-1     14.593866    11.534789      10.605480   \n",
      "ALAW-AS062-8_GCCTCTAAGCCAACAG-1     22.556645    11.529919      10.538189   \n",
      "ALAW-AS062-8_TGCGTGGGTGTGACGA-1     25.220978    10.728771       9.843921   \n",
      "ALAW-AS062-8_TTAGGACTCCAGAGGA-1     11.722142    10.432542       9.810572   \n",
      "\n",
      "                                  log2_mt Donor_id Age_group   Sex  Age  \\\n",
      "ALAW-AS044-1_AAACCTGAGAAGCCCA-1  0.381587      A20         A  Male   27   \n",
      "ALAW-AS044-1_AAACCTGAGAGTAATC-1 -1.263786      E07         E  Male   80   \n",
      "ALAW-AS044-1_AAACCTGAGCAATCTC-1 -1.190220      A23         A  Male   27   \n",
      "ALAW-AS044-1_AAACCTGAGGTACTCT-1  0.938800      E15         E  Male   78   \n",
      "ALAW-AS044-1_AAACCTGCAATGTAAG-1  0.574991      A15         A  Male   26   \n",
      "...                                   ...      ...       ...   ...  ...   \n",
      "ALAW-AS062-8_CGTTAGATCAGGCGAA-1  0.912914      E23         E  Male   73   \n",
      "ALAW-AS062-8_GACGTTATCTTGAGAC-1  1.795568      A31         A  Male   33   \n",
      "ALAW-AS062-8_GCCTCTAAGCCAACAG-1  1.201401      A38         A  Male   30   \n",
      "ALAW-AS062-8_TGCGTGGGTGTGACGA-1  0.500048      E23         E  Male   73   \n",
      "ALAW-AS062-8_TTAGGACTCCAGAGGA-1  1.796277      E23         E  Male   73   \n",
      "\n",
      "                                Tube_id  Batch     File_name  \\\n",
      "ALAW-AS044-1_AAACCTGAGAAGCCCA-1     G20  AS044  ALAW-AS044-1   \n",
      "ALAW-AS044-1_AAACCTGAGAGTAATC-1     L07  AS044  ALAW-AS044-1   \n",
      "ALAW-AS044-1_AAACCTGAGCAATCTC-1     G23  AS044  ALAW-AS044-1   \n",
      "ALAW-AS044-1_AAACCTGAGGTACTCT-1     L15  AS044  ALAW-AS044-1   \n",
      "ALAW-AS044-1_AAACCTGCAATGTAAG-1     G15  AS044  ALAW-AS044-1   \n",
      "...                                 ...    ...           ...   \n",
      "ALAW-AS062-8_CGTTAGATCAGGCGAA-1     T23  AS062  ALAW-AS062-8   \n",
      "ALAW-AS062-8_GACGTTATCTTGAGAC-1     M31  AS062  ALAW-AS062-8   \n",
      "ALAW-AS062-8_GCCTCTAAGCCAACAG-1     M38  AS062  ALAW-AS062-8   \n",
      "ALAW-AS062-8_TGCGTGGGTGTGACGA-1     T23  AS062  ALAW-AS062-8   \n",
      "ALAW-AS062-8_TTAGGACTCCAGAGGA-1     T23  AS062  ALAW-AS062-8   \n",
      "\n",
      "                                         Cluster_names  Cluster_numbers  \n",
      "ALAW-AS044-1_AAACCTGAGAAGCCCA-1           CD4+ T cells                0  \n",
      "ALAW-AS044-1_AAACCTGAGAGTAATC-1          Myeloid cells                6  \n",
      "ALAW-AS044-1_AAACCTGAGCAATCTC-1  TRAV1-2- CD8+ T cells                1  \n",
      "ALAW-AS044-1_AAACCTGAGGTACTCT-1           CD4+ T cells                0  \n",
      "ALAW-AS044-1_AAACCTGCAATGTAAG-1           CD4+ T cells                0  \n",
      "...                                                ...              ...  \n",
      "ALAW-AS062-8_CGTTAGATCAGGCGAA-1               NK cells                5  \n",
      "ALAW-AS062-8_GACGTTATCTTGAGAC-1               NK cells                5  \n",
      "ALAW-AS062-8_GCCTCTAAGCCAACAG-1               NK cells                5  \n",
      "ALAW-AS062-8_TGCGTGGGTGTGACGA-1               NK cells                5  \n",
      "ALAW-AS062-8_TTAGGACTCCAGAGGA-1               NK cells                5  \n",
      "\n",
      "[1916367 rows x 19 columns]\n"
     ]
    }
   ],
   "source": [
    "print(anno)"
   ]
  },
  {
   "cell_type": "code",
   "execution_count": 33,
   "id": "a000bf2b",
   "metadata": {},
   "outputs": [],
   "source": [
    "adata.obs = adata.obs.join(anno, how='left')"
   ]
  },
  {
   "cell_type": "code",
   "execution_count": 34,
   "id": "71da8202",
   "metadata": {},
   "outputs": [
    {
     "name": "stdout",
     "output_type": "stream",
     "text": [
      "                                    orig.ident  nCount_RNA  nFeature_RNA  \\\n",
      "ALAW-AS044-1_AAAGCAAGTAGCTTGT-1  SeuratProject        5136          1857   \n",
      "ALAW-AS044-1_AAAGCAATCTCAAGTG-1  SeuratProject        2299          1186   \n",
      "ALAW-AS044-1_AAAGTAGGTGTTGAGG-1  SeuratProject        4775          1984   \n",
      "ALAW-AS044-1_AACCATGCACCGATAT-1  SeuratProject        4394          1769   \n",
      "ALAW-AS044-1_AACCATGCATGCCACG-1  SeuratProject        4302          1716   \n",
      "...                                        ...         ...           ...   \n",
      "ALAW-AS062-8_GACAGAGCATCATCCC-1  SeuratProject        3629          1566   \n",
      "ALAW-AS062-8_GAGCAGACACCGGAAA-1  SeuratProject        6272          1476   \n",
      "ALAW-AS062-8_GATCAGTCATACCATG-1  SeuratProject        5205          1995   \n",
      "ALAW-AS062-8_TACTCATGTCCATGAT-1  SeuratProject        3063          1757   \n",
      "ALAW-AS062-8_TGCGCAGCACACTGCG-1  SeuratProject        3735          1674   \n",
      "\n",
      "                                 nCount_HTO  nFeature_HTO  percent.mt  \\\n",
      "ALAW-AS044-1_AAAGCAAGTAGCTTGT-1        4534            20    2.647975   \n",
      "ALAW-AS044-1_AAAGCAATCTCAAGTG-1        1106            20    3.784254   \n",
      "ALAW-AS044-1_AAAGTAGGTGTTGAGG-1        1841            20    3.790576   \n",
      "ALAW-AS044-1_AACCATGCACCGATAT-1        3119            20    2.025489   \n",
      "ALAW-AS044-1_AACCATGCATGCCACG-1        1329            20    2.998605   \n",
      "...                                     ...           ...         ...   \n",
      "ALAW-AS062-8_GACAGAGCATCATCCC-1         761            20    2.562689   \n",
      "ALAW-AS062-8_GAGCAGACACCGGAAA-1         243            20    0.000000   \n",
      "ALAW-AS062-8_GATCAGTCATACCATG-1         578            20    1.344861   \n",
      "ALAW-AS062-8_TACTCATGTCCATGAT-1         230            19    5.615410   \n",
      "ALAW-AS062-8_TGCGCAGCACACTGCG-1        1200            20    3.186078   \n",
      "\n",
      "                                 percent.ribo  log2_nCount  log2_nFeature  \\\n",
      "ALAW-AS044-1_AAAGCAAGTAGCTTGT-1     34.345794    12.326429      10.858758   \n",
      "ALAW-AS044-1_AAAGCAATCTCAAGTG-1     22.705524    11.166791      10.211888   \n",
      "ALAW-AS044-1_AAAGTAGGTGTTGAGG-1     23.664921    12.221285      10.954196   \n",
      "ALAW-AS044-1_AACCATGCACCGATAT-1     31.793355    12.101319      10.788718   \n",
      "ALAW-AS044-1_AACCATGCATGCCACG-1     31.450488    12.070792      10.744834   \n",
      "...                                       ...          ...            ...   \n",
      "ALAW-AS062-8_GACAGAGCATCATCCC-1     31.578947    11.825356      10.612868   \n",
      "ALAW-AS062-8_GAGCAGACACCGGAAA-1     56.313776    12.614710      10.527477   \n",
      "ALAW-AS062-8_GATCAGTCATACCATG-1     35.677233    12.345682      10.962173   \n",
      "ALAW-AS062-8_TACTCATGTCCATGAT-1     10.610513    11.580730      10.778898   \n",
      "ALAW-AS062-8_TGCGCAGCACACTGCG-1     25.247657    11.866893      10.709084   \n",
      "\n",
      "                                  log2_mt Donor_id Age_group   Sex  Age  \\\n",
      "ALAW-AS044-1_AAAGCAAGTAGCTTGT-1  1.404890      A23         A  Male   27   \n",
      "ALAW-AS044-1_AAAGCAATCTCAAGTG-1  1.920009      E15         E  Male   78   \n",
      "ALAW-AS044-1_AAAGTAGGTGTTGAGG-1  1.922417      A23         A  Male   27   \n",
      "ALAW-AS044-1_AACCATGCACCGATAT-1  1.018270      E07         E  Male   80   \n",
      "ALAW-AS044-1_AACCATGCATGCCACG-1  1.584292      E13         E  Male   79   \n",
      "...                                   ...      ...       ...   ...  ...   \n",
      "ALAW-AS062-8_GACAGAGCATCATCCC-1  1.357659      A31         A  Male   33   \n",
      "ALAW-AS062-8_GAGCAGACACCGGAAA-1      -inf      A38         A  Male   30   \n",
      "ALAW-AS062-8_GATCAGTCATACCATG-1  0.427457      A33         A  Male   33   \n",
      "ALAW-AS062-8_TACTCATGTCCATGAT-1  2.489391      A29         A  Male   35   \n",
      "ALAW-AS062-8_TGCGCAGCACACTGCG-1  1.671781      E23         E  Male   73   \n",
      "\n",
      "                                Tube_id  Batch     File_name  \\\n",
      "ALAW-AS044-1_AAAGCAAGTAGCTTGT-1     G23  AS044  ALAW-AS044-1   \n",
      "ALAW-AS044-1_AAAGCAATCTCAAGTG-1     L15  AS044  ALAW-AS044-1   \n",
      "ALAW-AS044-1_AAAGTAGGTGTTGAGG-1     G23  AS044  ALAW-AS044-1   \n",
      "ALAW-AS044-1_AACCATGCACCGATAT-1     L07  AS044  ALAW-AS044-1   \n",
      "ALAW-AS044-1_AACCATGCATGCCACG-1     L13  AS044  ALAW-AS044-1   \n",
      "...                                 ...    ...           ...   \n",
      "ALAW-AS062-8_GACAGAGCATCATCCC-1     M31  AS062  ALAW-AS062-8   \n",
      "ALAW-AS062-8_GAGCAGACACCGGAAA-1     M38  AS062  ALAW-AS062-8   \n",
      "ALAW-AS062-8_GATCAGTCATACCATG-1     M33  AS062  ALAW-AS062-8   \n",
      "ALAW-AS062-8_TACTCATGTCCATGAT-1     M29  AS062  ALAW-AS062-8   \n",
      "ALAW-AS062-8_TGCGCAGCACACTGCG-1     T23  AS062  ALAW-AS062-8   \n",
      "\n",
      "                                    Cluster_names  Cluster_numbers  \n",
      "ALAW-AS044-1_AAAGCAAGTAGCTTGT-1           B cells                7  \n",
      "ALAW-AS044-1_AAAGCAATCTCAAGTG-1           B cells                7  \n",
      "ALAW-AS044-1_AAAGTAGGTGTTGAGG-1           B cells                7  \n",
      "ALAW-AS044-1_AACCATGCACCGATAT-1           B cells                7  \n",
      "ALAW-AS044-1_AACCATGCATGCCACG-1           B cells                7  \n",
      "...                                           ...              ...  \n",
      "ALAW-AS062-8_GACAGAGCATCATCCC-1  Progenitor cells                8  \n",
      "ALAW-AS062-8_GAGCAGACACCGGAAA-1  Progenitor cells                8  \n",
      "ALAW-AS062-8_GATCAGTCATACCATG-1  Progenitor cells                8  \n",
      "ALAW-AS062-8_TACTCATGTCCATGAT-1  Progenitor cells                8  \n",
      "ALAW-AS062-8_TGCGCAGCACACTGCG-1  Progenitor cells                8  \n",
      "\n",
      "[1916367 rows x 19 columns]\n"
     ]
    }
   ],
   "source": [
    "print(adata.obs)"
   ]
  },
  {
   "cell_type": "code",
   "execution_count": 37,
   "id": "11b19309",
   "metadata": {},
   "outputs": [
    {
     "name": "stdout",
     "output_type": "stream",
     "text": [
      "(1017378, 36601)\n"
     ]
    }
   ],
   "source": [
    "adata_selected_groups = adata[adata.obs['Age_group'].isin(['A', 'E']), :].copy()\n",
    "print(adata_selected_groups.shape)"
   ]
  },
  {
   "cell_type": "code",
   "execution_count": 38,
   "id": "17f9503b",
   "metadata": {},
   "outputs": [],
   "source": [
    "adata_selected_groups.write('AO.h5ad')"
   ]
  },
  {
   "cell_type": "code",
   "execution_count": null,
   "id": "172b7338",
   "metadata": {},
   "outputs": [],
   "source": []
  }
 ],
 "metadata": {
  "kernelspec": {
   "display_name": "Python [conda env:scanpy]",
   "language": "python",
   "name": "conda-env-scanpy-py"
  },
  "language_info": {
   "codemirror_mode": {
    "name": "ipython",
    "version": 3
   },
   "file_extension": ".py",
   "mimetype": "text/x-python",
   "name": "python",
   "nbconvert_exporter": "python",
   "pygments_lexer": "ipython3",
   "version": "3.7.16"
  }
 },
 "nbformat": 4,
 "nbformat_minor": 5
}
